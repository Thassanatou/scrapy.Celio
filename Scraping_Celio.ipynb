{
 "cells": [
  {
   "cell_type": "code",
   "execution_count": 280,
   "metadata": {},
   "outputs": [],
   "source": [
    "import urllib.request\n",
    "import re\n",
    "import csv\n",
    "from bs4 import BeautifulSoup as b"
   ]
  },
  {
   "cell_type": "code",
   "execution_count": 281,
   "metadata": {},
   "outputs": [],
   "source": [
    "url_celio = 'https://store.celio.com/fr'\n",
    "html = urllib.request.urlopen(url_celio).read()\n",
    "soup = b(html, \"html.parser\")"
   ]
  },
  {
   "cell_type": "code",
   "execution_count": 282,
   "metadata": {},
   "outputs": [],
   "source": [
    "records = []\n",
    "ville = soup.find(\"div\", {\"id\": \"liste_villes\"})"
   ]
  },
  {
   "cell_type": "code",
   "execution_count": 283,
   "metadata": {},
   "outputs": [
    {
     "data": {
      "text/plain": [
       "11"
      ]
     },
     "execution_count": 283,
     "metadata": {},
     "output_type": "execute_result"
    }
   ],
   "source": [
    "len(ville)"
   ]
  },
  {
   "cell_type": "code",
   "execution_count": null,
   "metadata": {
    "scrolled": true
   },
   "outputs": [],
   "source": [
    "for colonne in ville.findAll(\"div\",{\"class\":\"colonne\"}):\n",
    "    for link in colonne.findAll(\"a\"):\n",
    "        nom = (link.text)\n",
    "        lien = (link['href'])\n",
    "        url_magasin =  lien\n",
    "        html1 = urllib.request.urlopen(url_magasin).read()\n",
    "        soup2 = b(html1,\"html.parser\")\n",
    "        for infos in soup2.findAll(\"div\",{\"class\":\"Information\"}):\n",
    "            adress = infos.find('span', {\"itemprop\":\"streetAddress\"})\n",
    "            cp = infos.find('span', {\"itemprop\":\"postalCode\"}).text\n",
    "            city= infos.find('span', {\"itemprop\":\"addressLocality\"}).text\n",
    "            tel1 = soup2.find('p',class_=\"telephone\").text\n",
    "\n",
    "            \n",
    "            print(nom) \n",
    "            adresse1 = adress.text.replace(\"  \", \"\")\n",
    "            print(adresse1)\n",
    "            print(cp)\n",
    "            print(city)\n",
    "            print(tel1)\n",
    "            print ('\\n')\n",
    "            tel = tel1.replace(\"Tél : \", \"\")\n",
    "            adresse2 = adresse1.replace(\"\\r\\n\", \"\")\n",
    "            records.append((nom, adresse2,code_postal , city, tel))\n",
    "\n"
   ]
  },
  {
   "cell_type": "code",
   "execution_count": 285,
   "metadata": {},
   "outputs": [
    {
     "data": {
      "text/plain": [
       "21"
      ]
     },
     "execution_count": 285,
     "metadata": {},
     "output_type": "execute_result"
    }
   ],
   "source": [
    "            len(nom)"
   ]
  },
  {
   "cell_type": "code",
   "execution_count": 286,
   "metadata": {},
   "outputs": [],
   "source": [
    "import pandas as pd\n",
    "df = pd.DataFrame(records, columns=['nom', 'adresse','code_postal', 'city','tel'])"
   ]
  },
  {
   "cell_type": "code",
   "execution_count": null,
   "metadata": {},
   "outputs": [],
   "source": [
    "df"
   ]
  },
  {
   "cell_type": "code",
   "execution_count": 288,
   "metadata": {},
   "outputs": [
    {
     "data": {
      "text/plain": [
       "505"
      ]
     },
     "execution_count": 288,
     "metadata": {},
     "output_type": "execute_result"
    }
   ],
   "source": [
    "len(df)"
   ]
  },
  {
   "cell_type": "code",
   "execution_count": null,
   "metadata": {},
   "outputs": [],
   "source": []
  },
  {
   "cell_type": "code",
   "execution_count": null,
   "metadata": {},
   "outputs": [],
   "source": []
  }
 ],
 "metadata": {
  "kernelspec": {
   "display_name": "Python 3",
   "language": "python",
   "name": "python3"
  },
  "language_info": {
   "codemirror_mode": {
    "name": "ipython",
    "version": 3
   },
   "file_extension": ".py",
   "mimetype": "text/x-python",
   "name": "python",
   "nbconvert_exporter": "python",
   "pygments_lexer": "ipython3",
   "version": "3.7.4"
  }
 },
 "nbformat": 4,
 "nbformat_minor": 2
}
